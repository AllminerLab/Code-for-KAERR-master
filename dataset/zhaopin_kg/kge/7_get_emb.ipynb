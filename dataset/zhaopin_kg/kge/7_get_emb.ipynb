{
 "cells": [
  {
   "cell_type": "code",
   "execution_count": 7,
   "metadata": {},
   "outputs": [
    {
     "name": "stdout",
     "output_type": "stream",
     "text": [
      "Done saving data into cached files.\n"
     ]
    }
   ],
   "source": [
    "import os\n",
    "import dgl\n",
    "import torch\n",
    "import numpy as np\n",
    "import pandas as pd\n",
    "\n",
    "kg_data_path = '../kg/'\n",
    "train_data_path = 'train_data/'\n",
    "kge_data_path = 'out/'\n",
    "kge_method = 'TransR'\n",
    "\n",
    "\n",
    "# load dgl graph from directory\n",
    "kg = dgl.data.CSVDataset(kg_data_path, force_reload=True)[0]"
   ]
  },
  {
   "cell_type": "code",
   "execution_count": 8,
   "metadata": {},
   "outputs": [],
   "source": [
    "# read entity and relation dict\n",
    "entity_dict_file = os.path.join(train_data_path, 'entities.tsv')\n",
    "relation_dict_file = os.path.join(train_data_path, 'relations.tsv')\n",
    "\n",
    "df_entity = pd.read_csv(entity_dict_file, sep='\\t', names=['index', 'entity'])\n",
    "df_relation = pd.read_csv(relation_dict_file, sep='\\t', names=['index', 'relation'])\n",
    "\n",
    "entity_list = df_entity['entity'].tolist()\n",
    "relation_list = df_relation['relation'].tolist()"
   ]
  },
  {
   "cell_type": "code",
   "execution_count": 9,
   "metadata": {},
   "outputs": [],
   "source": [
    "# load pretrained kge\n",
    "kge_outs = os.listdir(kge_data_path)\n",
    "kge_outs = [f for f in kge_outs if f.startswith(kge_method)]\n",
    "kge_outs.sort()\n",
    "\n",
    "kge_files = os.listdir(os.path.join(kge_data_path, kge_outs[-1]))\n",
    "entity_emb_file = [f for f in kge_files if f.endswith('entity.npy')][0]\n",
    "entity_emb = np.load(os.path.join(kge_data_path, kge_outs[-1], entity_emb_file))\n",
    "relation_emb_file = [f for f in kge_files if f.endswith('relation.npy')][0]\n",
    "relation_emb = np.load(os.path.join(kge_data_path, kge_outs[-1], relation_emb_file))"
   ]
  },
  {
   "cell_type": "code",
   "execution_count": 10,
   "metadata": {},
   "outputs": [],
   "source": [
    "# load to kg\n",
    "kg_embedding_size = entity_emb.shape[1]\n",
    "kg.ndata['embedding'] = {ntype: torch.zeros(kg.number_of_nodes(ntype), kg_embedding_size, device=kg.device) for ntype in kg.ntypes}\n",
    "for index, entityID in enumerate(entity_list):\n",
    "    ntype = entityID.split('ID')[0]\n",
    "    nid = int(entityID.split('ID')[1])\n",
    "    kg.nodes[ntype].data['embedding'][nid] = torch.tensor(entity_emb[index], device=kg.device)\n",
    "\n",
    "kg_entity_embs = []\n",
    "for etype in kg.ntypes:\n",
    "    kg_entity_embs.append(kg.ndata['embedding'][etype])\n",
    "kg_entity_embs = torch.cat(kg_entity_embs, dim=0)"
   ]
  },
  {
   "cell_type": "code",
   "execution_count": 11,
   "metadata": {},
   "outputs": [],
   "source": [
    "kg_relation_embs = []\n",
    "for etype in kg.etypes:\n",
    "    kg_relation_embs.append(torch.tensor(relation_emb[relation_list.index(etype)]).to(kg_entity_embs.device).unsqueeze(0))\n",
    "kg_relation_embs = torch.cat(kg_relation_embs, dim=0)"
   ]
  },
  {
   "cell_type": "code",
   "execution_count": 12,
   "metadata": {},
   "outputs": [],
   "source": [
    "all_kg_embs = torch.cat([torch.zeros((1, kg_embedding_size), dtype=kg_relation_embs.dtype), kg_entity_embs, kg_relation_embs], dim=0)\n",
    "\n",
    "# # save as npy\n",
    "# np.save('entity_embedding.npy', kg_entity_embs.cpu().numpy())\n",
    "# np.save('relation_embedding.npy', kg_relation_embs.cpu().numpy())\n",
    "np.save(f'kg_embedding_{all_kg_embs.shape[-1]}.npy', all_kg_embs.cpu().numpy())\n"
   ]
  },
  {
   "cell_type": "code",
   "execution_count": null,
   "metadata": {},
   "outputs": [],
   "source": []
  }
 ],
 "metadata": {
  "kernelspec": {
   "display_name": "base",
   "language": "python",
   "name": "python3"
  },
  "language_info": {
   "codemirror_mode": {
    "name": "ipython",
    "version": 3
   },
   "file_extension": ".py",
   "mimetype": "text/x-python",
   "name": "python",
   "nbconvert_exporter": "python",
   "pygments_lexer": "ipython3",
   "version": "3.9.16"
  },
  "orig_nbformat": 4
 },
 "nbformat": 4,
 "nbformat_minor": 2
}
